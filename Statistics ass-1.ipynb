{
 "cells": [
  {
   "cell_type": "code",
   "execution_count": null,
   "id": "bf8392b4-3aa2-44a4-b3d6-492c093f06c7",
   "metadata": {},
   "outputs": [],
   "source": [
    " 1. Explain the different types of data (qualitative and quantitative) and provide examples of each. Discuss \n",
    "nominal, ordinal, interval, and ratio scales\n",
    "Qualitative-\n",
    "Qualitative include numerical data.\n",
    "It has two types-\n",
    "1)Discret data-It will takes a specific finite whole no. value.\n",
    "2)Continous data-Any value in range. Real no.\n",
    " Ex-Interview transcripts\n",
    "Observational notes\n",
    "Open-ended survey responses\n",
    "Photographs\n",
    "Videos   \n",
    "Quantitative-\n",
    "Quantitative include categarical data.\n",
    "It cannot make with numerical data.\n",
    "  Ex-Height, Weight, Age, etc.\n",
    "Scores on standardized tests\n",
    "Number of products sold\n",
    "Temperature readings  \n",
    "*Nominal-\n",
    "Is Qualitative or categorical data.\n",
    "No order in the data\n",
    "Gender,location,colour\n",
    "*Ordinal-\n",
    " Order and rank has a meaning \n",
    " Difference cannot be measured\n",
    "Pie chart,bar-plot\n",
    "*Interval -\n",
    " The rank and order has a meaning\n",
    " Difference can be measured\n",
    " *Ratio scales-\n",
    " Order and rank has a meaning\n",
    " Difference and ratio measurable\n",
    " It does have a 0 starting point\n",
    " Height,weight   "
   ]
  },
  {
   "cell_type": "code",
   "execution_count": null,
   "id": "92557449-dacb-4c40-8c3c-0f76e4136ef9",
   "metadata": {},
   "outputs": [],
   "source": [
    " 2. What are the measures of central tendency, and when should you use each? Discuss the mean, median, \n",
    "and mode with examples and situations where each is appropriate\n",
    "Central tendency represents the center point of data set\n",
    "Mean-\n",
    "Average arithmatic mid value of data\n",
    "summing up all the observation and dividing by no. of observation.\n",
    "Example: Find the mean of data sets 10, 30, 40, 20, and 50.\n",
    "Mean of the data 10, 30, 40, 20, 50 is\n",
    "Mean = (sum of all values) / (number of values)\n",
    "Mean = (10 + 30 + 40 + 20+ 50) / 5 = 30\n",
    "Median-\n",
    "Physical mid point data\n",
    "The sorting of the data can be done either in ascending order or descending order. A median divides the data into two equal halves. \n",
    "Example: Find the median of given data set 30, 40, 10, 20, and 50.\n",
    "Solution:\n",
    "Median of the data 30, 40, 10, 20, 50 is,\n",
    "Step 1: Order the given data in ascending order as:\n",
    "10, 20, 30, 40, 50\n",
    "Step 2: Check n (number of terms of data set) is even or odd and find the median of the data with respective ‘n’ value.\n",
    "Step 3: Here, n = 5 (odd)\n",
    "Median = [(n + 1)/2]th term\n",
    "Median = [(5 + 1)/2]th term\n",
    "= 30\n",
    " Mode-\n",
    "   A mode is the most frequent value or item of the data set. A data set can generally have one or more than one mode value\n",
    "Example: Find the mode of the given data set 1, 2, 2, 2, 3, 3, 4, 5.\n",
    "Solution:\n",
    "Given set is {1, 2, 2, 2, 3, 3, 4, 5}\n",
    "As the above data set is arranged in ascending order.\n",
    "By observing the above data set we can say that,\n",
    "Mode = 2\n",
    "As, it has highest frequency (3)"
   ]
  },
  {
   "cell_type": "code",
   "execution_count": null,
   "id": "69a17f6b-7eb4-402f-81ac-d1a336fb0089",
   "metadata": {},
   "outputs": [],
   "source": [
    " 3. Explain the concept of dispersion. How do variance and standard deviation measure the spread of data?\n",
    "Dispersion refers to the extent to which data points deviate from the central tendency, indicating the spread within a datase\n",
    "Variance: Variance measures how far individual data points are from the mean.\n",
    "It’s calculated by averaging the squared differences between each data point and the mean.\n",
    "Standard Deviation: Standard deviation is the square root of the variance.\n",
    "It’s a widely used measure that indicates the average amount of deviation of data points from the mean."
   ]
  },
  {
   "cell_type": "code",
   "execution_count": null,
   "id": "5da00052-905e-4d20-b788-505acf9161c0",
   "metadata": {},
   "outputs": [],
   "source": [
    " 4. What is a box plot, and what can it tell you about the distribution of data?\n",
    "Box Plot is a graphical method to visualize data distribution for gaining insights and making informed decisions.\n",
    "Box plot is a type of chart that depicts a group of numerical data through their quartiles\n",
    "Minimum – It is the minimum value in the dataset excluding the outliers.\n",
    "First Quartile (Q1) – 25% of the data lies below the First (lower) Quartile.\n",
    "Median (Q2) – It is the mid-point of the dataset. Half of the values lie below it and half above.\n",
    "Third Quartile (Q3) – 75% of the data lies below the Third (Upper) Quartile.\n",
    "Maximum – It is the maximum value in the dataset excluding the outliers."
   ]
  },
  {
   "cell_type": "code",
   "execution_count": null,
   "id": "2d2d669f-0246-4afe-93dd-b31312a5a195",
   "metadata": {},
   "outputs": [],
   "source": [
    " 5. Discuss the role of random sampling in making inferences about populations.\n",
    "Every member of population has equal chance of being selected in simple.\n",
    "Each of person has 1/12 of being selected in sample."
   ]
  },
  {
   "cell_type": "code",
   "execution_count": null,
   "id": "1689d376-f12b-475b-a5ad-22ed38cad9ae",
   "metadata": {},
   "outputs": [],
   "source": [
    " 6. Explain the concept of skewness and its types. How does skewness affect the interpretation of data?\n",
    "Skewness can be defined as a statistical measure that describes the lack of symmetry or asymmetry in the probability distribution of a dataset. \n",
    "1. Positive Skewness (Right Skew)\n",
    "In a positively skewed distribution, the tail on the right side (the larger values) is longer than the tail on the left side (the smaller values).\n",
    "2. Negative Skewness (Left Skew)\n",
    "In a negatively skewed distribution, the tail on the left side (the smaller values) is longer than the tail on the right side (the larger values)\n",
    "3. Zero Skewness (Symmetrical Distribution)\n",
    "Zero skewness indicates a perfectly symmetrical distribution, where the mean, median, and mode are equal. In a symmetrical distribution, the data points are evenly distributed around the central point.\n"
   ]
  },
  {
   "cell_type": "code",
   "execution_count": null,
   "id": "b8d494c1-5a7f-4f74-ba82-17d32666ebd4",
   "metadata": {},
   "outputs": [],
   "source": [
    " 7. What is the interquartile range (IQR), and how is it used to detect outliers?\n",
    "The interquartile range (IQR) is a simple way to measure how spread out the middle 50% of a dataset is. \n",
    "It's used in statistics to understand the spread of data by focusing on the central part, ignoring any extreme values or outlier\n",
    "\n",
    "An outlier is an observation that lies abnormally far away from other values in a dataset. Outliers can be problematic because they can affect the results of an analysis.\n",
    "\n",
    "One common way to find outliers in a dataset is to use the interquartile range.\n",
    "\n",
    "The interquartile range, often abbreviated IQR, is the difference between the 25th percentile (Q1) and the 75th percentile (Q3) in a dataset. It measures the spread of the middle 50% of values.\n",
    "\n",
    "One popular method is to declare an observation to be an outlier if it has a value 1.5 times greater than the IQR or 1.5 times less than the IQR."
   ]
  },
  {
   "cell_type": "code",
   "execution_count": null,
   "id": "c875222e-ab71-4a07-9aa6-75a6ca634363",
   "metadata": {},
   "outputs": [],
   "source": [
    " 8. Discuss the conditions under which the binomial distribution is used.\n",
    "The number of trials are finite.\n",
    "The trials are independent to each other.\n",
    "The probability of sucesss'p' is constant for each trial.\n",
    "In every trial there are only two possible outcomes-sucess or failure."
   ]
  },
  {
   "cell_type": "code",
   "execution_count": null,
   "id": "da18164c-2998-42bd-a041-27567cefeb09",
   "metadata": {},
   "outputs": [],
   "source": [
    " 9. Explain the properties of the normal distribution and the empirical rule (68-95-99.7 rule).\n",
    "Normal Distribution is the most common or normal form of distribution of Random Variables, hence the name “normal distribution.” \n",
    " 68-95-99 rule is referred to as the Empirical Rule or also to says that the three-sigma rule which is a fundamental principle in statistics that offers a concise yet powerful insight into the distribution of data within a normal distribution.                                                                             "
   ]
  },
  {
   "cell_type": "code",
   "execution_count": null,
   "id": "93e6f0fd-c97f-4b79-b6ee-938e4abe80a4",
   "metadata": {},
   "outputs": [],
   "source": [
    " 10. Provide a real-life example of a Poisson process and calculate the probability for a specific event.\n",
    "Example : Calls per Hour at a Call Center\n",
    "Call centers use the Poisson distribution to model the number of expected calls per hour that they’ll receive so they know how many call center reps to keep on staff."
   ]
  },
  {
   "cell_type": "code",
   "execution_count": null,
   "id": "db92fdb9-1c88-4baa-aa46-1fb31487000b",
   "metadata": {},
   "outputs": [],
   "source": [
    " 11. Explain what a random variable is and differentiate between discrete and continuous random variables.\n",
    " real-valued function, defined over the sample space of a random experiment, is called a random variable. That is, the values of the random variable correspond to the outcomes of the random experiment.\n",
    "Random variables could be either discrete or continuous.\n",
    " Discrete Variables\n",
    "They can take only specific or discrete values\n",
    "Discrete variables are typically measured on a nominal or ordinal scale\n",
    "Discrete variables are often represented by bar graphs or histograms.\n",
    "Examples include the number of students in a class or the outcomes of rolling a die\n",
    "\n",
    "Continuous Variable\n",
    "They can take any value within a specific range.\n",
    "\n",
    "Continuous variables are typically measured on an interval or ratio scale\n",
    "Continuous variables are often represented by line graphs or smooth curves.\n",
    "\n",
    "Examples include measurements such as length, time, or temperature"
   ]
  },
  {
   "cell_type": "code",
   "execution_count": null,
   "id": "e631e888-419f-4417-a81f-33ccdb794688",
   "metadata": {},
   "outputs": [],
   "source": [
    " 12. Provide an example dataset, calculate both covariance and correlation, and interpret the results.\n",
    "# Data vectors\n",
    "x <- c(1, 3, 5, 10)\n",
    "\n",
    "y <- c(2, 4, 6, 20)\n",
    "\n",
    "# Print covariance using different methods\n",
    "print(cov(x, y))\n",
    "print(cov(x, y, method = \"pearson\"))\n",
    "print(cov(x, y, method = \"kendall\"))\n",
    "print(cov(x, y, method = \"spearman\"))\n",
    "\n"
   ]
  },
  {
   "cell_type": "code",
   "execution_count": null,
   "id": "43a7033f-3844-4f7b-9944-2b3b3485296f",
   "metadata": {},
   "outputs": [],
   "source": []
  }
 ],
 "metadata": {
  "kernelspec": {
   "display_name": "Python 3 (ipykernel)",
   "language": "python",
   "name": "python3"
  },
  "language_info": {
   "codemirror_mode": {
    "name": "ipython",
    "version": 3
   },
   "file_extension": ".py",
   "mimetype": "text/x-python",
   "name": "python",
   "nbconvert_exporter": "python",
   "pygments_lexer": "ipython3",
   "version": "3.12.4"
  }
 },
 "nbformat": 4,
 "nbformat_minor": 5
}
